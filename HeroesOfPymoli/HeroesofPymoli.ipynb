{
 "cells": [
  {
   "cell_type": "code",
   "execution_count": 15,
   "metadata": {},
   "outputs": [],
   "source": [
    "import pandas as pd"
   ]
  },
  {
   "cell_type": "code",
   "execution_count": 17,
   "metadata": {},
   "outputs": [],
   "source": [
    "# File to Load\n",
    "\n",
    "file = \"Resources/purchase_data.csv\"\n",
    "\n",
    "# Read Purchasing File and store into Pandas data frame\n",
    "\n",
    "purchase_data_df = pd.read_csv(file)"
   ]
  },
  {
   "cell_type": "code",
   "execution_count": 26,
   "metadata": {},
   "outputs": [
    {
     "data": {
      "text/html": [
       "<div>\n",
       "<style scoped>\n",
       "    .dataframe tbody tr th:only-of-type {\n",
       "        vertical-align: middle;\n",
       "    }\n",
       "\n",
       "    .dataframe tbody tr th {\n",
       "        vertical-align: top;\n",
       "    }\n",
       "\n",
       "    .dataframe thead th {\n",
       "        text-align: right;\n",
       "    }\n",
       "</style>\n",
       "<table border=\"1\" class=\"dataframe\">\n",
       "  <thead>\n",
       "    <tr style=\"text-align: right;\">\n",
       "      <th></th>\n",
       "      <th>Total Players</th>\n",
       "    </tr>\n",
       "  </thead>\n",
       "  <tbody>\n",
       "    <tr>\n",
       "      <th>0</th>\n",
       "      <td>576</td>\n",
       "    </tr>\n",
       "  </tbody>\n",
       "</table>\n",
       "</div>"
      ],
      "text/plain": [
       "   Total Players\n",
       "0            576"
      ]
     },
     "execution_count": 26,
     "metadata": {},
     "output_type": "execute_result"
    }
   ],
   "source": [
    "#display total number of players\n",
    "unique_SN = purchase_data_df[\"SN\"].unique()\n",
    "total = len(unique_SN)\n",
    "total_players = {\"Total Players\": [total]}\n",
    "total_players_df = pd.DataFrame (total_players, columns = ['Total Players'])\n",
    "total_players_df.head()"
   ]
  },
  {
   "cell_type": "code",
   "execution_count": 27,
   "metadata": {},
   "outputs": [
    {
     "data": {
      "text/html": [
       "<div>\n",
       "<style scoped>\n",
       "    .dataframe tbody tr th:only-of-type {\n",
       "        vertical-align: middle;\n",
       "    }\n",
       "\n",
       "    .dataframe tbody tr th {\n",
       "        vertical-align: top;\n",
       "    }\n",
       "\n",
       "    .dataframe thead th {\n",
       "        text-align: right;\n",
       "    }\n",
       "</style>\n",
       "<table border=\"1\" class=\"dataframe\">\n",
       "  <thead>\n",
       "    <tr style=\"text-align: right;\">\n",
       "      <th></th>\n",
       "      <th>Number of Unique Items</th>\n",
       "      <th>Average Price</th>\n",
       "      <th>Number of Purchases</th>\n",
       "      <th>Total Revenue</th>\n",
       "    </tr>\n",
       "  </thead>\n",
       "  <tbody>\n",
       "    <tr>\n",
       "      <th>0</th>\n",
       "      <td>179</td>\n",
       "      <td>3.050987</td>\n",
       "      <td>780</td>\n",
       "      <td>2379.77</td>\n",
       "    </tr>\n",
       "  </tbody>\n",
       "</table>\n",
       "</div>"
      ],
      "text/plain": [
       "   Number of Unique Items  Average Price  Number of Purchases  Total Revenue\n",
       "0                     179       3.050987                  780        2379.77"
      ]
     },
     "execution_count": 27,
     "metadata": {},
     "output_type": "execute_result"
    }
   ],
   "source": [
    "#Purchasing Analysis Total\n",
    " \n",
    "#Run basic calculations to obtain number of unique items, average price, etc.\n",
    "total_rev = purchase_data_df[\"Price\"].sum()\n",
    "unique_items = purchase_data_df[\"Item Name\"].unique()\n",
    "num_purchases = purchase_data_df[\"Purchase ID\"].value_counts()\n",
    "avg_price = total_rev / len(num_purchases)\n",
    "\n",
    "#Create a summary data frame to hold the results\n",
    "purchasing_analysis = {'Number of Unique Items': [len(unique_items)], 'Average Price': [avg_price], 'Number of Purchases': [len(num_purchases)], 'Total Revenue': [total_rev]}\n",
    "purchasing_analysis_df = pd.DataFrame(purchasing_analysis, columns = ['Number of Unique Items', 'Average Price', 'Number of Purchases', 'Total Revenue'])\n",
    "\n",
    "#format currency\n",
    "\n",
    "#Display the summary data frame\n",
    "purchasing_analysis_df\n"
   ]
  },
  {
   "cell_type": "code",
   "execution_count": 32,
   "metadata": {},
   "outputs": [
    {
     "data": {
      "text/html": [
       "<div>\n",
       "<style scoped>\n",
       "    .dataframe tbody tr th:only-of-type {\n",
       "        vertical-align: middle;\n",
       "    }\n",
       "\n",
       "    .dataframe tbody tr th {\n",
       "        vertical-align: top;\n",
       "    }\n",
       "\n",
       "    .dataframe thead th {\n",
       "        text-align: right;\n",
       "    }\n",
       "</style>\n",
       "<table border=\"1\" class=\"dataframe\">\n",
       "  <thead>\n",
       "    <tr style=\"text-align: right;\">\n",
       "      <th></th>\n",
       "      <th>Total Count</th>\n",
       "      <th>Percentage of Players</th>\n",
       "    </tr>\n",
       "    <tr>\n",
       "      <th>Gender</th>\n",
       "      <th></th>\n",
       "      <th></th>\n",
       "    </tr>\n",
       "  </thead>\n",
       "  <tbody>\n",
       "    <tr>\n",
       "      <th>Female</th>\n",
       "      <td>81</td>\n",
       "      <td>14.062500</td>\n",
       "    </tr>\n",
       "    <tr>\n",
       "      <th>Male</th>\n",
       "      <td>484</td>\n",
       "      <td>84.027778</td>\n",
       "    </tr>\n",
       "    <tr>\n",
       "      <th>Other / Non-Disclosed</th>\n",
       "      <td>11</td>\n",
       "      <td>1.909722</td>\n",
       "    </tr>\n",
       "  </tbody>\n",
       "</table>\n",
       "</div>"
      ],
      "text/plain": [
       "                       Total Count  Percentage of Players\n",
       "Gender                                                   \n",
       "Female                          81              14.062500\n",
       "Male                           484              84.027778\n",
       "Other / Non-Disclosed           11               1.909722"
      ]
     },
     "execution_count": 32,
     "metadata": {},
     "output_type": "execute_result"
    }
   ],
   "source": [
    "#Gender Demographics\n",
    "\n",
    "#find number of players for each gender\n",
    "gender = purchase_data_df.groupby(\"Gender\")\n",
    "unique_SN2 = gender[\"SN\"].nunique()\n",
    "\n",
    "#find percentage out of total players for each gender\n",
    "percent_players = (unique_SN2 / total)*100\n",
    "\n",
    "#create dataframe\n",
    "gender_count_df = pd.DataFrame({\"Total Count\": unique_SN2, \"Percentage of Players\": percent_players})\n",
    "\n",
    "#format percentage\n",
    "\n",
    "#display data frame\n",
    "gender_count_df\n"
   ]
  },
  {
   "cell_type": "code",
   "execution_count": 46,
   "metadata": {},
   "outputs": [
    {
     "data": {
      "text/plain": [
       "Gender\n",
       "Female                   4.468395\n",
       "Male                     4.065372\n",
       "Other / Non-Disclosed    4.562727\n",
       "dtype: float64"
      ]
     },
     "execution_count": 46,
     "metadata": {},
     "output_type": "execute_result"
    }
   ],
   "source": [
    "#Purchasing Analysis (Gender)\n",
    " \n",
    "#Run basic calculations to obtain purchase count, avg. purchase price, total purchase value, avg. purchase total per person\n",
    "gender2 = purchase_data_df.groupby(\"Gender\")\n",
    "purchase_count = gender2[\"SN\"].count()\n",
    "avg_price2 = gender2[\"Price\"].mean()\n",
    "total_gender_value = gender2[\"Price\"].sum()\n",
    "avg_per_person = (gender2[\"Price\"].sum()/unique_SN2)\n",
    "\n",
    "#Create a summary data frame to hold the results\n",
    "gender_dem_df = pd.DataFrame({\"Purchase Count\": purchase_count, \"Average Purchase Price\": avg_price2, \"Total Purchase Value\": total_gender_value, \"Average Purchase Total Per Person\": avg_per_person})\n",
    "\n",
    "#format currency\n",
    "\n",
    "\n",
    "#Display the summary data frame\n",
    "gender_de"
   ]
  },
  {
   "cell_type": "code",
   "execution_count": null,
   "metadata": {},
   "outputs": [],
   "source": [
    "#Age Demographics\n",
    " \n",
    "#Establish bins for ages\n",
    "\n",
    "\n",
    "#Categorize the existing players using the age bins. Hint: use pd.cut()\n",
    "\n",
    "\n",
    "#Calculate the numbers and percentages by age group\n",
    "\n",
    "\n",
    "#Create a summary data frame to hold the results\n",
    "\n",
    "\n",
    "#Optional: round the percentage column to two decimal points\n",
    "\n",
    "\n",
    "#Display Age Demographics Table"
   ]
  },
  {
   "cell_type": "code",
   "execution_count": null,
   "metadata": {},
   "outputs": [],
   "source": [
    "#Purchasing Analysis (Age)\n",
    " \n",
    "#Bin the purchase_data data frame by age\n",
    "\n",
    "\n",
    "#Run basic calculations to obtain purchase count, avg. purchase price, avg. purchase total per person etc. in the table below\n",
    "\n",
    "\n",
    "#Create a summary data frame to hold the results\n",
    "\n",
    "\n",
    "#optional: give the displayed data cleaner formatting\n",
    "\n",
    "\n",
    "#Display the summary data frame"
   ]
  },
  {
   "cell_type": "code",
   "execution_count": null,
   "metadata": {},
   "outputs": [],
   "source": [
    "#Top Spenders\n",
    " \n",
    "#Run basic calculations to obtain the results in the table below\n",
    "\n",
    "\n",
    "#Create a summary data frame to hold the results\n",
    "\n",
    "\n",
    "#Sort the total purchase value column in descending order\n",
    "\n",
    "\n",
    "#Optional: give the displayed data cleaner formatting\n",
    "\n",
    "\n",
    "#Display a preview of the summary data frame"
   ]
  },
  {
   "cell_type": "code",
   "execution_count": null,
   "metadata": {},
   "outputs": [],
   "source": [
    "#Most Popular Items\n",
    " \n",
    "#Retrieve the Item ID, Item Name, and Item Price columns\n",
    "\n",
    "\n",
    "#Group by Item ID and Item Name. Perform calculations to obtain purchase count, average item price, and total purchase value\n",
    "\n",
    "\n",
    "#Create a summary data frame to hold the results\n",
    "\n",
    "\n",
    "#Sort the purchase count column in descending order\n",
    "\n",
    "\n",
    "#Optional: give the displayed data cleaner formatting\n",
    "\n",
    "\n",
    "#Display a preview of the summary data frame"
   ]
  },
  {
   "cell_type": "code",
   "execution_count": null,
   "metadata": {},
   "outputs": [],
   "source": [
    "#Most Profitable Items\n",
    " \n",
    "#Sort the above table by total purchase value in descending order\n",
    "\n",
    "\n",
    "#Optional: give the displayed data cleaner formatting\n",
    "\n",
    "\n",
    "#Display a preview of the data frame"
   ]
  }
 ],
 "metadata": {
  "kernelspec": {
   "display_name": "Python [conda env:PythonData] *",
   "language": "python",
   "name": "conda-env-PythonData-py"
  },
  "language_info": {
   "codemirror_mode": {
    "name": "ipython",
    "version": 3
   },
   "file_extension": ".py",
   "mimetype": "text/x-python",
   "name": "python",
   "nbconvert_exporter": "python",
   "pygments_lexer": "ipython3",
   "version": "3.6.10"
  }
 },
 "nbformat": 4,
 "nbformat_minor": 4
}
